{
 "cells": [
  {
   "cell_type": "markdown",
   "metadata": {},
   "source": [
    "1.\tWrite a Python Program to Find the Factorial of a Number?"
   ]
  },
  {
   "cell_type": "code",
   "execution_count": 1,
   "metadata": {},
   "outputs": [
    {
     "name": "stdout",
     "output_type": "stream",
     "text": [
      "Enter a Number to find factorial : 4\n",
      "Factorial of 4 is 24\n"
     ]
    }
   ],
   "source": [
    "num = int(input(\"Enter a Number to find factorial : \"))\n",
    "factorial = 1\n",
    "if num < 0:\n",
    "    print(\"Can not calculate Factorial of a negative number\")\n",
    "elif num == 0:\n",
    "    print(\"Factorial of zero is 1\")\n",
    "else:\n",
    "    for i in range(1,num+1):\n",
    "        factorial = factorial * i\n",
    "print(\"Factorial of {} is {}\".format(num, factorial))"
   ]
  },
  {
   "cell_type": "markdown",
   "metadata": {},
   "source": [
    "2.\tWrite a Python Program to Display the multiplication Table?"
   ]
  },
  {
   "cell_type": "code",
   "execution_count": 2,
   "metadata": {},
   "outputs": [
    {
     "name": "stdout",
     "output_type": "stream",
     "text": [
      "Enter a Number to diaply its multiplication table : 2\n",
      "\n",
      "Multiplication table for number 2\n",
      "\n",
      "2 X 1 = 2\n",
      "2 X 2 = 4\n",
      "2 X 3 = 6\n",
      "2 X 4 = 8\n",
      "2 X 5 = 10\n",
      "2 X 6 = 12\n",
      "2 X 7 = 14\n",
      "2 X 8 = 16\n",
      "2 X 9 = 18\n",
      "2 X 10 = 20\n"
     ]
    }
   ],
   "source": [
    "num = int(input(\"Enter a Number to diaply its multiplication table : \"))\n",
    "\n",
    "print(\"\\nMultiplication table for number {}\\n\".format(num))\n",
    "for i in range(1,11):\n",
    "    print(\"{} X {} = {}\".format(num,i,i*num))"
   ]
  },
  {
   "cell_type": "markdown",
   "metadata": {},
   "source": [
    "3.\tWrite a Python Program to Print the Fibonacci sequence?"
   ]
  },
  {
   "cell_type": "code",
   "execution_count": 3,
   "metadata": {},
   "outputs": [
    {
     "name": "stdout",
     "output_type": "stream",
     "text": [
      "enter a number to find the fibonacci series : 23\n",
      "Fibonacci series upto  23 :\n",
      "0 1 1 2 3 5 8 13 21 34 55 89 144 233 377 610 987 1597 2584 4181 6765 10946 17711 28657 "
     ]
    }
   ],
   "source": [
    "sequence = int(input(\"enter a number to find the fibonacci series : \"))\n",
    "count = 0\n",
    "f1 , f2 = 0,1\n",
    "\n",
    "if sequence <= 0:\n",
    "    print(\"Please enter a positive number\")\n",
    "elif sequence == 1:\n",
    "    print(\"Fibonacci series upto \",sequence, \":\")\n",
    "    print(f1)\n",
    "else:\n",
    "    print(\"Fibonacci series upto \",sequence, \":\")\n",
    "    while count <= sequence:        \n",
    "        print(f1, end=\" \")\n",
    "        fth = f1 + f2\n",
    "        f1,f2 = f2, fth\n",
    "        count+=1\n",
    "        "
   ]
  },
  {
   "cell_type": "markdown",
   "metadata": {},
   "source": [
    "4.\tWrite a Python Program to Check Armstrong Number?\n",
    "Armstrong number is a number that is equal to the sum of power of its digits\n",
    "- 153 = length = 3\n",
    "   - 1*1*1 = 1\n",
    "   - 5*5*5 = 125\n",
    "   - 3*3*3 = 27\n",
    "   sum = 1 + 125 + 27 = 153\n",
    "   num = sum"
   ]
  },
  {
   "cell_type": "code",
   "execution_count": 4,
   "metadata": {},
   "outputs": [
    {
     "name": "stdout",
     "output_type": "stream",
     "text": [
      "Enter the number : 156\n",
      "Not an armstrong number\n"
     ]
    }
   ],
   "source": [
    "num = int(input(\"Enter the number : \"))\n",
    "\n",
    "power = len(str(num))\n",
    "\n",
    "temp = num\n",
    "sum = 0\n",
    "while temp > 0:\n",
    "    digit = temp % 10\n",
    "    sum = sum + digit ** power\n",
    "    temp = temp//10\n",
    "if num == sum :\n",
    "    print(\"Number is armstrong number\")\n",
    "else:\n",
    "    print(\"Not an armstrong number\")"
   ]
  },
  {
   "cell_type": "markdown",
   "metadata": {},
   "source": [
    "5.\tWrite a Python Program to Find Armstrong Number in an Interval?"
   ]
  },
  {
   "cell_type": "code",
   "execution_count": 6,
   "metadata": {},
   "outputs": [
    {
     "name": "stdout",
     "output_type": "stream",
     "text": [
      "Lower limit : 100\n",
      "Upper limit : 1000\n",
      "153\n",
      "370\n",
      "371\n",
      "407\n"
     ]
    }
   ],
   "source": [
    "low = int(input(\"Lower limit : \"))\n",
    "up = int(input(\"Upper limit : \"))\n",
    "\n",
    "\n",
    "for num in range(low,up+1):\n",
    "    power = len(str(num))\n",
    "    temp = num\n",
    "    sum = 0\n",
    "    while temp > 0:\n",
    "        digit = temp % 10\n",
    "        sum = sum + digit ** power\n",
    "        temp = temp//10\n",
    "    if num == sum :\n",
    "        print(num)"
   ]
  },
  {
   "cell_type": "markdown",
   "metadata": {},
   "source": [
    "6.\tWrite a Python Program to Find the Sum of Natural Numbers?"
   ]
  },
  {
   "cell_type": "code",
   "execution_count": 7,
   "metadata": {},
   "outputs": [
    {
     "name": "stdout",
     "output_type": "stream",
     "text": [
      "enter the number : 23\n",
      "Sum of natural numbers upto 23 is 276\n"
     ]
    }
   ],
   "source": [
    "num = int(input(\"enter the number : \"))\n",
    "sum = 0\n",
    "for i in range(0,num+1):\n",
    "    sum+=i\n",
    "print(\"Sum of natural numbers upto {} is {}\".format(num,sum))\n",
    "    "
   ]
  },
  {
   "cell_type": "code",
   "execution_count": null,
   "metadata": {},
   "outputs": [],
   "source": []
  }
 ],
 "metadata": {
  "kernelspec": {
   "display_name": "Python 3",
   "language": "python",
   "name": "python3"
  },
  "language_info": {
   "codemirror_mode": {
    "name": "ipython",
    "version": 3
   },
   "file_extension": ".py",
   "mimetype": "text/x-python",
   "name": "python",
   "nbconvert_exporter": "python",
   "pygments_lexer": "ipython3",
   "version": "3.6.5"
  }
 },
 "nbformat": 4,
 "nbformat_minor": 2
}
